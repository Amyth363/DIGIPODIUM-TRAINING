{
 "cells": [
  {
   "cell_type": "code",
   "execution_count": 1,
   "metadata": {},
   "outputs": [
    {
     "name": "stdout",
     "output_type": "stream",
     "text": [
      "P\n",
      "Y\n",
      "T\n",
      "H\n",
      "O\n",
      "N\n"
     ]
    }
   ],
   "source": [
    "X = \"PYTHON\"\n",
    "for i in X:\n",
    "    print(i)\n",
    "    "
   ]
  },
  {
   "cell_type": "code",
   "execution_count": 5,
   "metadata": {},
   "outputs": [
    {
     "name": "stdout",
     "output_type": "stream",
     "text": [
      "I have Apples\n",
      "I have Bananas\n",
      "I have Lemons\n"
     ]
    }
   ],
   "source": [
    "Fruits = ['Apples', 'Bananas', 'Lemons']\n",
    "for item in Fruits:\n",
    "    print(f'I have', item)\n"
   ]
  },
  {
   "cell_type": "code",
   "execution_count": 6,
   "metadata": {},
   "outputs": [
    {
     "name": "stdout",
     "output_type": "stream",
     "text": [
      "You got point 0\n",
      "You got point 1\n",
      "You got point 2\n",
      "You got point 3\n",
      "You got point 4\n",
      "You got point 5\n"
     ]
    }
   ],
   "source": [
    "for i in range(6):\n",
    "    print('You got point', i)\n",
    "    "
   ]
  },
  {
   "cell_type": "code",
   "execution_count": 7,
   "metadata": {},
   "outputs": [
    {
     "name": "stdout",
     "output_type": "stream",
     "text": [
      "Sheep 2\n",
      "Sheep 3\n",
      "Sheep 4\n",
      "Sheep 5\n",
      "Sheep 6\n",
      "Sheep 7\n",
      "Sheep 8\n",
      "Sheep 9\n",
      "Sheep 10\n"
     ]
    }
   ],
   "source": [
    "for num in range(2,11):\n",
    "    print('Sheep', num)\n",
    "    "
   ]
  },
  {
   "cell_type": "markdown",
   "metadata": {},
   "source": [
    "WHILE LOOP"
   ]
  },
  {
   "cell_type": "code",
   "execution_count": 2,
   "metadata": {},
   "outputs": [
    {
     "name": "stdout",
     "output_type": "stream",
     "text": [
      "Run\n",
      "Run\n",
      "Run\n",
      "Run\n",
      "Run\n",
      "Stop\n"
     ]
    }
   ],
   "source": [
    "x = 1\n",
    "while x <= 5:\n",
    "    print('Run')\n",
    "    x+=1\n",
    "print('Stop')\n"
   ]
  },
  {
   "cell_type": "code",
   "execution_count": 4,
   "metadata": {},
   "outputs": [
    {
     "name": "stdout",
     "output_type": "stream",
     "text": [
      "The Sum is 55\n"
     ]
    }
   ],
   "source": [
    "n = 10\n",
    "sum = 0\n",
    "i = 1\n",
    "while i <= n:\n",
    "    sum = sum + i\n",
    "    i = i+1\n",
    "print(\"The Sum is\", sum)\n"
   ]
  },
  {
   "cell_type": "code",
   "execution_count": 6,
   "metadata": {},
   "outputs": [
    {
     "name": "stdout",
     "output_type": "stream",
     "text": [
      "1\n",
      "2\n",
      "3\n",
      "4\n",
      "5\n",
      "6\n",
      "7\n"
     ]
    }
   ],
   "source": [
    "a = [1,2,3,0,4,5,0.0,6,7]\n",
    "for i in a:\n",
    "    if i != 0:\n",
    "        print(i)\n",
    "        "
   ]
  },
  {
   "cell_type": "code",
   "execution_count": 16,
   "metadata": {},
   "outputs": [
    {
     "name": "stdout",
     "output_type": "stream",
     "text": [
      "Bablu\n",
      "Chintu\n",
      "Guddu\n",
      "Ajay\n",
      "Vijay\n"
     ]
    }
   ],
   "source": [
    "data = ['Bablu', 'Chintu', 'Guddu','', 'Ajay', 'Vijay']\n",
    "for name in data:\n",
    "    if len(name) == 0:\n",
    "        continue\n",
    "    print(name)\n"
   ]
  },
  {
   "cell_type": "code",
   "execution_count": 13,
   "metadata": {},
   "outputs": [
    {
     "name": "stdout",
     "output_type": "stream",
     "text": [
      "JJYP\n",
      "ESNP\n",
      "TLNP\n",
      "OYM\n",
      "HAHAHAHAHAA\n",
      "\n"
     ]
    }
   ],
   "source": [
    "data = ''\n",
    "while True:\n",
    "    line = input('Enter a line: ')\n",
    "    if line:\n",
    "        data += line + '\\n'\n",
    "    else:\n",
    "        break\n",
    "print(data)\n"
   ]
  },
  {
   "cell_type": "code",
   "execution_count": null,
   "metadata": {},
   "outputs": [],
   "source": []
  }
 ],
 "metadata": {
  "kernelspec": {
   "display_name": "Python 3.9.12 ('base')",
   "language": "python",
   "name": "python3"
  },
  "language_info": {
   "codemirror_mode": {
    "name": "ipython",
    "version": 3
   },
   "file_extension": ".py",
   "mimetype": "text/x-python",
   "name": "python",
   "nbconvert_exporter": "python",
   "pygments_lexer": "ipython3",
   "version": "3.9.12"
  },
  "orig_nbformat": 4,
  "vscode": {
   "interpreter": {
    "hash": "d80a9bee5065b0c5ecbd41fd171d7834ee08c59dd2bbbcc898a12fa2825d1994"
   }
  }
 },
 "nbformat": 4,
 "nbformat_minor": 2
}
