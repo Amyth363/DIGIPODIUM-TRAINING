{
 "cells": [
  {
   "cell_type": "code",
   "execution_count": 2,
   "metadata": {},
   "outputs": [
    {
     "name": "stdout",
     "output_type": "stream",
     "text": [
      "Do you want to buy apples?\n",
      "Buy 2 kgs\n"
     ]
    }
   ],
   "source": [
    "print('Do you want to buy apples?')\n",
    "q = input('How many?')\n",
    "if q == 'yes' :\n",
    "    print('Buy 2 kgs')\n",
    "    if q == 'no' :\n",
    "        print('No problem') \n"
   ]
  },
  {
   "cell_type": "code",
   "execution_count": 8,
   "metadata": {},
   "outputs": [
    {
     "name": "stdout",
     "output_type": "stream",
     "text": [
      "X is greater then 5\n"
     ]
    }
   ],
   "source": [
    "x = 10\n",
    "if x > 5 :\n",
    " print(\"X is greater then 5\")\n",
    "else :\n",
    " print(\"Check again\")"
   ]
  },
  {
   "cell_type": "code",
   "execution_count": 18,
   "metadata": {},
   "outputs": [
    {
     "name": "stdout",
     "output_type": "stream",
     "text": [
      "You need to improve 40 C\n"
     ]
    }
   ],
   "source": [
    "score = int(input('Type your score here: '))\n",
    "if score >= 100:\n",
    " Letter = 'A+'\n",
    "elif score >= 80:\n",
    " Letter = 'A'\n",
    "elif score >= 60:\n",
    " Letter = 'A-'\n",
    "elif score >= 40:\n",
    " Letter = 'C'\n",
    " print('You need to improve', score, Letter)   "
   ]
  },
  {
   "cell_type": "code",
   "execution_count": 19,
   "metadata": {},
   "outputs": [
    {
     "name": "stdout",
     "output_type": "stream",
     "text": [
      "Babloo\n"
     ]
    }
   ],
   "source": [
    "x = \"Amit\" if \"Munna\" in \"My name is Amit\" else \"Babloo\"\n",
    "print(x)\n"
   ]
  },
  {
   "cell_type": "code",
   "execution_count": 20,
   "metadata": {},
   "outputs": [
    {
     "name": "stdout",
     "output_type": "stream",
     "text": [
      "You are young\n"
     ]
    }
   ],
   "source": [
    "temp = int(input('Enter your age: '))\n",
    "print('You are young') if temp < 50 else print('You are mature now')\n"
   ]
  },
  {
   "cell_type": "code",
   "execution_count": null,
   "metadata": {},
   "outputs": [],
   "source": []
  }
 ],
 "metadata": {
  "kernelspec": {
   "display_name": "Python 3.9.12 ('base')",
   "language": "python",
   "name": "python3"
  },
  "language_info": {
   "name": "python",
   "version": "3.9.12"
  },
  "orig_nbformat": 4,
  "vscode": {
   "interpreter": {
    "hash": "d80a9bee5065b0c5ecbd41fd171d7834ee08c59dd2bbbcc898a12fa2825d1994"
   }
  }
 },
 "nbformat": 4,
 "nbformat_minor": 2
}
