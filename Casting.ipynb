{
 "cells": [
  {
   "cell_type": "code",
   "execution_count": 16,
   "metadata": {},
   "outputs": [
    {
     "name": "stdout",
     "output_type": "stream",
     "text": [
      "x = \n",
      "1000\n",
      "y = \n",
      "2000\n",
      "The result is = \n",
      "3000😒"
     ]
    }
   ],
   "source": [
    "x = 1000\n",
    "y = 2000\n",
    "x = int(x)\n",
    "y = int(y)\n",
    "z = x+y\n",
    "type(z)\n",
    "print(\"x = \", x, \"y = \", y, \"The result is = \", z, sep='\\n', end='😒')"
   ]
  },
  {
   "cell_type": "code",
   "execution_count": 21,
   "metadata": {},
   "outputs": [
    {
     "name": "stdout",
     "output_type": "stream",
     "text": [
      "x = 1000 + y = 2000\n",
      "So, the result is 3000 👍"
     ]
    }
   ],
   "source": [
    "x = 1000\n",
    "y = 2000\n",
    "x = int(x)\n",
    "y = int(y)\n",
    "z = x+y\n",
    "type(z)\n",
    "print(f'x = {x} + y = {y}', sep = '\\n') \n",
    "print(f'So, the result is {z}', sep ='\\n', end =' 👍')"
   ]
  },
  {
   "cell_type": "code",
   "execution_count": null,
   "metadata": {},
   "outputs": [],
   "source": []
  }
 ],
 "metadata": {
  "kernelspec": {
   "display_name": "Python 3.9.12 ('base')",
   "language": "python",
   "name": "python3"
  },
  "language_info": {
   "codemirror_mode": {
    "name": "ipython",
    "version": 3
   },
   "file_extension": ".py",
   "mimetype": "text/x-python",
   "name": "python",
   "nbconvert_exporter": "python",
   "pygments_lexer": "ipython3",
   "version": "3.9.12"
  },
  "orig_nbformat": 4,
  "vscode": {
   "interpreter": {
    "hash": "d80a9bee5065b0c5ecbd41fd171d7834ee08c59dd2bbbcc898a12fa2825d1994"
   }
  }
 },
 "nbformat": 4,
 "nbformat_minor": 2
}
