{
 "cells": [
  {
   "cell_type": "code",
   "execution_count": 35,
   "metadata": {},
   "outputs": [
    {
     "ename": "TypeError",
     "evalue": "'str' object is not callable",
     "output_type": "error",
     "traceback": [
      "\u001b[1;31m---------------------------------------------------------------------------\u001b[0m",
      "\u001b[1;31mTypeError\u001b[0m                                 Traceback (most recent call last)",
      "\u001b[1;32mf:\\DIGIPODIUM TRAINING\\Basics.ipynb Cell 1'\u001b[0m in \u001b[0;36m<cell line: 3>\u001b[1;34m()\u001b[0m\n\u001b[0;32m      <a href='vscode-notebook-cell:/f%3A/DIGIPODIUM%20TRAINING/Basics.ipynb#ch0000004?line=0'>1</a>\u001b[0m name\u001b[39m=\u001b[39m \u001b[39m'\u001b[39m\u001b[39mAmit Chatterjee\u001b[39m\u001b[39m'\u001b[39m\n\u001b[0;32m      <a href='vscode-notebook-cell:/f%3A/DIGIPODIUM%20TRAINING/Basics.ipynb#ch0000004?line=1'>2</a>\u001b[0m age \u001b[39m=\u001b[39m (\u001b[39m32\u001b[39m)\n\u001b[1;32m----> <a href='vscode-notebook-cell:/f%3A/DIGIPODIUM%20TRAINING/Basics.ipynb#ch0000004?line=2'>3</a>\u001b[0m \u001b[39mprint\u001b[39;49m(name)\n",
      "\u001b[1;31mTypeError\u001b[0m: 'str' object is not callable"
     ]
    }
   ],
   "source": [
    "name= 'Amit Chatterjee'\n",
    "age = (32)\n",
    "print(name)"
   ]
  },
  {
   "cell_type": "code",
   "execution_count": 38,
   "metadata": {},
   "outputs": [],
   "source": [
    "name= \"Amit Chatterjee\"\n",
    "is_coding = True\n",
    "is_fun = True\n",
    "are_you_broed = False\n",
    "a = [5,10,15,20,35,40]\n",
    "vals = [1, 2.2, 'python']\n",
    "colors = ['red', 'green', 'yellow']\n",
    "a = (5,10,15,20,35,40)\n",
    "vals = (1, 2.2, 'python')\n",
    "colors = ('red', 'green', 'yellow')\n",
    "a = {45,50}\n",
    "vals = {10, 2.1, 'pythons'}\n",
    "colors = {'reds', 'greens', 'yellows'}\n",
    "car_info = {\n",
    "    \"Brand\" : \"HYUNDAI\",\n",
    "    \"Model\" : \"Shop\",\n",
    " \"Year\": 2020\n",
    " }\n",
    "\n",
    "\n",
    "\n"
   ]
  },
  {
   "cell_type": "code",
   "execution_count": null,
   "metadata": {},
   "outputs": [],
   "source": []
  }
 ],
 "metadata": {
  "kernelspec": {
   "display_name": "Python 3.9.12 ('base')",
   "language": "python",
   "name": "python3"
  },
  "language_info": {
   "codemirror_mode": {
    "name": "ipython",
    "version": 3
   },
   "file_extension": ".py",
   "mimetype": "text/x-python",
   "name": "python",
   "nbconvert_exporter": "python",
   "pygments_lexer": "ipython3",
   "version": "3.9.12"
  },
  "orig_nbformat": 4,
  "vscode": {
   "interpreter": {
    "hash": "d80a9bee5065b0c5ecbd41fd171d7834ee08c59dd2bbbcc898a12fa2825d1994"
   }
  }
 },
 "nbformat": 4,
 "nbformat_minor": 2
}
